{
  "nbformat": 4,
  "nbformat_minor": 0,
  "metadata": {
    "colab": {
      "provenance": []
    },
    "kernelspec": {
      "name": "python3",
      "display_name": "Python 3"
    },
    "language_info": {
      "name": "python"
    }
  },
  "cells": [
    {
      "cell_type": "markdown",
      "source": [
        "# Build your first agent!\n",
        "\n"
      ],
      "metadata": {
        "id": "kTsEHA-Xb10j"
      }
    },
    {
      "cell_type": "markdown",
      "source": [
        "# Environment\n"
      ],
      "metadata": {
        "id": "U9AedAKNb_1h"
      }
    },
    {
      "cell_type": "code",
      "source": [
        "!pip install -qU google-adk"
      ],
      "metadata": {
        "id": "fYhFnbLqcGWM",
        "collapsed": true,
        "colab": {
          "base_uri": "https://localhost:8080/"
        },
        "outputId": "a1f4111c-9f5a-48e0-8070-3c75e8106ad2"
      },
      "execution_count": 1,
      "outputs": [
        {
          "output_type": "stream",
          "name": "stdout",
          "text": [
            "\u001b[2K     \u001b[90m━━━━━━━━━━━━━━━━━━━━━━━━━━━━━━━━━━━━━━━━\u001b[0m \u001b[32m44.7/44.7 kB\u001b[0m \u001b[31m2.3 MB/s\u001b[0m eta \u001b[36m0:00:00\u001b[0m\n",
            "\u001b[2K     \u001b[90m━━━━━━━━━━━━━━━━━━━━━━━━━━━━━━━━━━━━━━━━\u001b[0m \u001b[32m44.3/44.3 kB\u001b[0m \u001b[31m2.6 MB/s\u001b[0m eta \u001b[36m0:00:00\u001b[0m\n",
            "\u001b[2K   \u001b[90m━━━━━━━━━━━━━━━━━━━━━━━━━━━━━━━━━━━━━━━━\u001b[0m \u001b[32m1.8/1.8 MB\u001b[0m \u001b[31m26.5 MB/s\u001b[0m eta \u001b[36m0:00:00\u001b[0m\n",
            "\u001b[2K   \u001b[90m━━━━━━━━━━━━━━━━━━━━━━━━━━━━━━━━━━━━━━━━\u001b[0m \u001b[32m240.0/240.0 kB\u001b[0m \u001b[31m7.4 MB/s\u001b[0m eta \u001b[36m0:00:00\u001b[0m\n",
            "\u001b[2K   \u001b[90m━━━━━━━━━━━━━━━━━━━━━━━━━━━━━━━━━━━━━━━━\u001b[0m \u001b[32m218.1/218.1 kB\u001b[0m \u001b[31m12.9 MB/s\u001b[0m eta \u001b[36m0:00:00\u001b[0m\n",
            "\u001b[2K   \u001b[90m━━━━━━━━━━━━━━━━━━━━━━━━━━━━━━━━━━━━━━━━\u001b[0m \u001b[32m335.7/335.7 kB\u001b[0m \u001b[31m18.4 MB/s\u001b[0m eta \u001b[36m0:00:00\u001b[0m\n",
            "\u001b[2K   \u001b[90m━━━━━━━━━━━━━━━━━━━━━━━━━━━━━━━━━━━━━━━━\u001b[0m \u001b[32m155.9/155.9 kB\u001b[0m \u001b[31m8.4 MB/s\u001b[0m eta \u001b[36m0:00:00\u001b[0m\n",
            "\u001b[2K   \u001b[90m━━━━━━━━━━━━━━━━━━━━━━━━━━━━━━━━━━━━━━━━\u001b[0m \u001b[32m65.6/65.6 kB\u001b[0m \u001b[31m2.0 MB/s\u001b[0m eta \u001b[36m0:00:00\u001b[0m\n",
            "\u001b[2K   \u001b[90m━━━━━━━━━━━━━━━━━━━━━━━━━━━━━━━━━━━━━━━━\u001b[0m \u001b[32m119.4/119.4 kB\u001b[0m \u001b[31m3.4 MB/s\u001b[0m eta \u001b[36m0:00:00\u001b[0m\n",
            "\u001b[2K   \u001b[90m━━━━━━━━━━━━━━━━━━━━━━━━━━━━━━━━━━━━━━━━\u001b[0m \u001b[32m201.6/201.6 kB\u001b[0m \u001b[31m8.5 MB/s\u001b[0m eta \u001b[36m0:00:00\u001b[0m\n",
            "\u001b[2K   \u001b[90m━━━━━━━━━━━━━━━━━━━━━━━━━━━━━━━━━━━━━━━━\u001b[0m \u001b[32m64.8/64.8 kB\u001b[0m \u001b[31m3.4 MB/s\u001b[0m eta \u001b[36m0:00:00\u001b[0m\n",
            "\u001b[2K   \u001b[90m━━━━━━━━━━━━━━━━━━━━━━━━━━━━━━━━━━━━━━━━\u001b[0m \u001b[32m79.1/79.1 kB\u001b[0m \u001b[31m2.9 MB/s\u001b[0m eta \u001b[36m0:00:00\u001b[0m\n",
            "\u001b[2K   \u001b[90m━━━━━━━━━━━━━━━━━━━━━━━━━━━━━━━━━━━━━━━━\u001b[0m \u001b[32m229.5/229.5 kB\u001b[0m \u001b[31m6.2 MB/s\u001b[0m eta \u001b[36m0:00:00\u001b[0m\n",
            "\u001b[2K   \u001b[90m━━━━━━━━━━━━━━━━━━━━━━━━━━━━━━━━━━━━━━━━\u001b[0m \u001b[32m103.8/103.8 kB\u001b[0m \u001b[31m6.9 MB/s\u001b[0m eta \u001b[36m0:00:00\u001b[0m\n",
            "\u001b[2K   \u001b[90m━━━━━━━━━━━━━━━━━━━━━━━━━━━━━━━━━━━━━━━━\u001b[0m \u001b[32m45.2/45.2 kB\u001b[0m \u001b[31m1.2 MB/s\u001b[0m eta \u001b[36m0:00:00\u001b[0m\n",
            "\u001b[?25h\u001b[31mERROR: pip's dependency resolver does not currently take into account all the packages that are installed. This behaviour is the source of the following dependency conflicts.\n",
            "google-colab 1.0.0 requires requests==2.32.3, but you have requests 2.32.4 which is incompatible.\u001b[0m\u001b[31m\n",
            "\u001b[0m"
          ]
        }
      ]
    },
    {
      "cell_type": "code",
      "source": [
        "import os\n",
        "PROJECT_ID = \"your-project-id\"  # @param {type:\"string\"}\n",
        "if not PROJECT_ID:\n",
        "    PROJECT_ID = str(os.environ.get(\"GOOGLE_CLOUD_PROJECT\"))\n",
        "\n",
        "LOCATION = \"us-central1\" # @param {type:\"string\"}\n",
        "\n",
        "os.environ[\"GOOGLE_CLOUD_PROJECT\"] = PROJECT_ID\n",
        "os.environ[\"GOOGLE_CLOUD_LOCATION\"] = LOCATION\n",
        "os.environ[\"GOOGLE_GENAI_USE_VERTEXAI\"] = \"TRUE\" # Use Vertex AI API\n",
        "\n",
        "# [your-project-id]"
      ],
      "metadata": {
        "id": "qhUqPpmKcNxR"
      },
      "execution_count": 23,
      "outputs": []
    },
    {
      "cell_type": "code",
      "source": [
        "from google.colab import auth\n",
        "auth.authenticate_user()"
      ],
      "metadata": {
        "id": "V7QVtlI0cE0F"
      },
      "execution_count": 3,
      "outputs": []
    },
    {
      "cell_type": "code",
      "source": [
        "from google.genai import types\n",
        "from pydantic import BaseModel\n",
        "from google.adk.agents import Agent\n",
        "from google.adk.runners import Runner\n",
        "from google.adk.agents import LlmAgent\n",
        "from google.adk.sessions import InMemorySessionService\n",
        "from google.adk.memory import InMemoryMemoryService\n",
        "from google import adk\n",
        "\n",
        "import warnings\n",
        "import logging\n",
        "from pprint import pprint\n",
        "import json\n",
        "import time"
      ],
      "metadata": {
        "id": "56FKIJsAgJJs"
      },
      "execution_count": 135,
      "outputs": []
    },
    {
      "cell_type": "markdown",
      "source": [
        "# Utils"
      ],
      "metadata": {
        "id": "vOnOJpWB-rJo"
      }
    },
    {
      "cell_type": "code",
      "source": [
        "def pprint_events(events):\n",
        "    '''Pretty print of events generated by ADK runner'''\n",
        "    start_time = time.time()\n",
        "\n",
        "    for _, event in enumerate(events):\n",
        "        is_final_response = event.is_final_response()\n",
        "        function_calls = event.get_function_calls()\n",
        "        function_responses = event.get_function_responses()\n",
        "\n",
        "        try:\n",
        "            agent_res = json.loads(event.content.model_dump_json(indent=2, exclude_none=True))\n",
        "        except AttributeError as e:\n",
        "            print(f\"Error parsing event content: {e}\")\n",
        "            continue\n",
        "\n",
        "        if is_final_response:\n",
        "            final_response = event.content.parts[0].text if event.content.parts else \"No content available\"\n",
        "            elapsed_time_ms = round((time.time() - start_time) * 1000, 3)\n",
        "            print(f'>>> Final Response ({elapsed_time_ms} ms):\\n{final_response}')\n",
        "            print(\"-\" * 30)\n",
        "        elif function_calls:\n",
        "            print('+++ Function Calls:')\n",
        "            for function_call in function_calls:\n",
        "                print(f\"Function Name: {function_call.name}, Args: {function_call.args}\")\n",
        "        elif function_responses:\n",
        "            print('--- Function Responses:')\n",
        "            for function_response in function_responses:\n",
        "                response_details = function_response.response\n",
        "                recommended_list = list(response_details.values()) if response_details else []\n",
        "                print(f\"Function Name: {function_response.name}\")\n",
        "                print(f\"Function Results: {json.dumps(recommended_list)}\")\n",
        "        else:\n",
        "            print('No function calls or responses available.')\n",
        "            print(f\"Agent Response: {agent_res}\")\n",
        "\n",
        "    elapsed_time_ms = round((time.time() - start_time) * 1000, 3)\n",
        "    print(f\"Total elapsed time: {elapsed_time_ms} ms\")"
      ],
      "metadata": {
        "id": "9RPH3mm0-iON"
      },
      "execution_count": 44,
      "outputs": []
    },
    {
      "cell_type": "markdown",
      "source": [
        "# Concepts: AGENT\n"
      ],
      "metadata": {
        "id": "8HVKgWyHekT0"
      }
    },
    {
      "cell_type": "code",
      "source": [
        "AGENT_MODEL = \"gemini-2.5-flash\" # the model used by the agent"
      ],
      "metadata": {
        "id": "5E6uH_Nl6tAk"
      },
      "execution_count": 60,
      "outputs": []
    },
    {
      "cell_type": "code",
      "source": [
        "# My first agent\n",
        "root_agent = Agent(\n",
        "    model=AGENT_MODEL,\n",
        "    name=\"PhysicsPal\",\n",
        "    instruction=\"\"\"\n",
        "    Explain the physics concepts in plain English so a beginner can understand\n",
        "        \"\"\",\n",
        "    generate_content_config=types.GenerateContentConfig(\n",
        "        max_output_tokens=1000,\n",
        "    ),\n",
        "    description=\"Agent that explains concepts from Physics\",\n",
        ")"
      ],
      "metadata": {
        "id": "tIdaHSS5ShDb"
      },
      "execution_count": 61,
      "outputs": []
    },
    {
      "cell_type": "code",
      "source": [
        "# Constant\n",
        "APP_NAME = \"physics_pal_app\" # name of your agent app\n",
        "USER_ID = \"user12345\"         # the user id that is interacting with the agent - used for a new conversation with the agent"
      ],
      "metadata": {
        "id": "uUdAMMPAea2-"
      },
      "execution_count": 47,
      "outputs": []
    },
    {
      "cell_type": "markdown",
      "source": [
        "### Setup Runner and Session Service\n",
        "\n",
        "- To manage conversations and execute the agent, we need two more components:\n",
        "\n",
        "**SessionService:** Responsible for managing conversation history and state for different users and sessions. The InMemorySessionService is a simple implementation that stores everything in memory, suitable for testing and simple applications. It keeps track of the messages exchanged. We'll explore state persistence more in Step 4.\n",
        "\n",
        "**Runner:** The engine that orchestrates the interaction flow. It takes user input, routes it to the appropriate agent, manages calls to the LLM and tools based on the agent's logic, handles session updates via the SessionService, and yields events representing the progress of the interaction.\n",
        "\n"
      ],
      "metadata": {
        "id": "ZIUfIg63EE9Q"
      }
    },
    {
      "cell_type": "code",
      "source": [
        "# define the session service\n",
        "session_service = InMemorySessionService()"
      ],
      "metadata": {
        "id": "fIkxddwyW23e"
      },
      "execution_count": 48,
      "outputs": []
    },
    {
      "cell_type": "code",
      "source": [
        "# define runner\n",
        "runner = Runner(agent=root_agent, app_name=APP_NAME, session_service=session_service)"
      ],
      "metadata": {
        "id": "1gD4IwCNW_qF"
      },
      "execution_count": 49,
      "outputs": []
    },
    {
      "cell_type": "code",
      "source": [
        "#create session\n",
        "session = await session_service.create_session(\n",
        "     app_name=APP_NAME,\n",
        "     user_id=USER_ID,\n",
        ")"
      ],
      "metadata": {
        "id": "hU1YkvBwuLtJ"
      },
      "execution_count": 50,
      "outputs": []
    },
    {
      "cell_type": "code",
      "source": [
        "user_input = types.Part(text=\"hi\")\n",
        "\n",
        "events = runner.run(user_id=session.user_id, session_id=session.id, new_message=types.Content(role='user', parts=[user_input]))\n",
        "pprint_events(events)"
      ],
      "metadata": {
        "colab": {
          "base_uri": "https://localhost:8080/"
        },
        "id": "_P73-qVj-_UQ",
        "outputId": "fd5f15ba-1c1e-4709-ded2-0af7a1364a44"
      },
      "execution_count": 51,
      "outputs": [
        {
          "output_type": "stream",
          "name": "stdout",
          "text": [
            ">>> Final Response (1955.184 ms):\n",
            "Hello there! I'm PhysicsPal, and I'm ready to help you understand some fascinating physics concepts.\n",
            "\n",
            "What's on your mind today? Is there anything in particular you're curious about, or would you like me to start with something foundational? I'm here to explain things in plain English, so don't hesitate to ask anything!\n",
            "------------------------------\n",
            "Total elapsed time: 1963.196 ms\n"
          ]
        }
      ]
    },
    {
      "cell_type": "code",
      "source": [
        "user_input = types.Part(text=\"What is inertia?\")\n",
        "\n",
        "events = runner.run(user_id=session.user_id, session_id=session.id, new_message=types.Content(role='user', parts=[user_input]))\n",
        "pprint_events(events)"
      ],
      "metadata": {
        "colab": {
          "base_uri": "https://localhost:8080/"
        },
        "id": "OFsRssj1_B5C",
        "outputId": "d82b03df-8507-45f8-f04f-ecb083f73d8c"
      },
      "execution_count": 52,
      "outputs": [
        {
          "output_type": "stream",
          "name": "stdout",
          "text": [
            ">>> Final Response (6869.842 ms):\n",
            "Ah, inertia! That's a fantastic place to start because it's a really fundamental concept in physics, and you experience it every single day without even realizing it.\n",
            "\n",
            "In the simplest terms, **inertia is the natural tendency of any object to resist changes in its state of motion.**\n",
            "\n",
            "Let's break that down:\n",
            "\n",
            "1.  **\"Resist changes\"**: This is the key part.\n",
            "    *   If an object is **sitting still**, inertia wants it to *stay sitting still*. It's \"lazy\" and doesn't want to start moving.\n",
            "    *   If an object is **moving**, inertia wants it to *keep moving in the same direction at the same speed*. It's equally \"lazy\" and doesn't want to stop or change its path.\n",
            "\n",
            "Think of it like an object's \"stubbornness\" or \"laziness\" when it comes to changing what it's already doing.\n",
            "\n",
            "**Here are a few everyday examples to help it click:**\n",
            "\n",
            "*   **When you're in a car and it suddenly brakes:** You lurch forward, right? That's your body's inertia. Before the car braked, your body was moving forward at the same speed as the car. When the car stops, your body wants to *keep moving forward* due to its inertia, so you get pushed against your seatbelt.\n",
            "*   **When you're in a car and it suddenly speeds up:** You feel pushed back into your seat. That's also inertia. Your body was initially at rest (or moving slowly), and it wants to *stay at rest* (or at that slower speed). When the car accelerates, your body lags behind because of its inertia.\n",
            "*   **Pushing a heavy box vs. a light box:** It's much harder to get a heavy box moving from a standstill than a light one, and it's also harder to stop a heavy box once it's moving. Why? Because the heavier box has more *mass*, and **the more mass an object has, the more inertia it possesses.** It's more \"stubborn\" about changing its motion.\n",
            "*   **A hockey puck gliding across the ice:** Once hit, a puck will keep sliding for a very long time because there's very little friction (an outside force) to slow it down. It wants to keep moving due to its inertia.\n",
            "\n",
            "So, in essence, inertia is why things that are stopped tend to stay stopped, and why things that are moving tend to keep moving, unless some outside force acts upon them. It's one of the core principles laid out in Newton's First Law of Motion!\n",
            "\n",
            "Does that make sense? Let me know if you'd like another example or want to dig deeper!\n",
            "------------------------------\n",
            "Total elapsed time: 6879.188 ms\n"
          ]
        }
      ]
    },
    {
      "cell_type": "code",
      "source": [
        "user_input = types.Part(text=\"What is velocity?\")\n",
        "\n",
        "events = runner.run(user_id=session.user_id, session_id=session.id, new_message=types.Content(role='user', parts=[user_input]))\n",
        "pprint_events(events)"
      ],
      "metadata": {
        "colab": {
          "base_uri": "https://localhost:8080/"
        },
        "id": "h9k95J70BgWl",
        "outputId": "46a72124-9a4f-41f0-f023-ce8f196bc307"
      },
      "execution_count": 53,
      "outputs": [
        {
          "output_type": "stream",
          "name": "stdout",
          "text": [
            ">>> Final Response (6996.016 ms):\n",
            "Great question! Velocity is a super important concept, and it's closely related to something you probably already understand: speed.\n",
            "\n",
            "Think of it this way:\n",
            "\n",
            "**Speed tells you *how fast* something is moving.**\n",
            "*   \"I'm driving at 60 miles per hour.\"\n",
            "*   \"That runner is doing 10 meters per second.\"\n",
            "\n",
            "**Velocity tells you *how fast* something is moving AND *in what direction*.**\n",
            "\n",
            "So, **velocity is essentially \"speed with a direction.\"**\n",
            "\n",
            "Let's use an example to make this super clear:\n",
            "\n",
            "Imagine you're talking about a car:\n",
            "\n",
            "*   **Speed:** If I say, \"The car is traveling at 50 miles per hour,\" that's its speed. You know *how fast* it's going.\n",
            "*   **Velocity:** If I say, \"The car is traveling at 50 miles per hour *north*,\" that's its velocity. Now you know both *how fast* it's going and *where* it's headed.\n",
            "\n",
            "**Why is the direction so important?**\n",
            "\n",
            "In physics, direction matters a lot!\n",
            "\n",
            "*   If two cars are both going 50 mph, but one is going north and the other is going south, their *speeds* are the same, but their *velocities* are completely different because their directions are opposite.\n",
            "*   If you're designing a rocket, knowing its speed isn't enough; you absolutely need to know its velocity (speed and direction) to make sure it reaches its target!\n",
            "*   When a ball is thrown upwards, its speed might momentarily be zero at the very top of its arc, but its velocity is changing constantly – it's going up, then it's going down.\n",
            "\n",
            "So, in short:\n",
            "*   **Speed = Magnitude (how much/how fast)**\n",
            "*   **Velocity = Magnitude + Direction**\n",
            "\n",
            "It's usually measured in units like meters per second (m/s), kilometers per hour (km/h), or miles per hour (mph), always with a direction specified.\n",
            "\n",
            "Does that distinction between speed and velocity make sense?\n",
            "------------------------------\n",
            "Total elapsed time: 7001.188 ms\n"
          ]
        }
      ]
    },
    {
      "cell_type": "code",
      "source": [
        "user_input = types.Part(text=\"Do you have the list of all questions that I asked you in this session?\")\n",
        "\n",
        "events = runner.run(user_id=session.user_id, session_id=session.id, new_message=types.Content(role='user', parts=[user_input]))\n",
        "pprint_events(events)"
      ],
      "metadata": {
        "colab": {
          "base_uri": "https://localhost:8080/"
        },
        "id": "mvYwivM0Bk6S",
        "outputId": "f57af835-a344-4a75-fb13-9cbae48852ff"
      },
      "execution_count": 54,
      "outputs": [
        {
          "output_type": "stream",
          "name": "stdout",
          "text": [
            ">>> Final Response (2784.675 ms):\n",
            "Yes, I do! Here's a list of the questions you've asked me so far in this session:\n",
            "\n",
            "1.  \"hi\"\n",
            "2.  \"What is inertia?\"\n",
            "3.  \"What is velocity?\"\n",
            "4.  \"Do you have the list of all questions that I asked you in this session?\"\n",
            "------------------------------\n",
            "Total elapsed time: 2793.606 ms\n"
          ]
        }
      ]
    },
    {
      "cell_type": "code",
      "source": [
        "session_tmp = await session_service.get_session(user_id=USER_ID, session_id=session.id, app_name=APP_NAME)\n",
        "session_tmp"
      ],
      "metadata": {
        "colab": {
          "base_uri": "https://localhost:8080/"
        },
        "id": "Nz_CWTxsM9Pd",
        "outputId": "bda53218-7469-4547-ee33-0628b7075b73"
      },
      "execution_count": 55,
      "outputs": [
        {
          "output_type": "execute_result",
          "data": {
            "text/plain": [
              "Session(id='51dfa0f6-906e-44f3-b64b-45e5ea0434bf', app_name='physics_pal_app', user_id='user12345', state={}, events=[Event(content=Content(\n",
              "  parts=[\n",
              "    Part(\n",
              "      text='hi'\n",
              "    ),\n",
              "  ],\n",
              "  role='user'\n",
              "), grounding_metadata=None, partial=None, turn_complete=None, error_code=None, error_message=None, interrupted=None, custom_metadata=None, usage_metadata=None, invocation_id='e-bf422707-da94-47d5-aad6-5e7df0446ded', author='user', actions=EventActions(skip_summarization=None, state_delta={}, artifact_delta={}, transfer_to_agent=None, escalate=None, requested_auth_configs={}), long_running_tool_ids=None, branch=None, id='315bdf13-2fa2-4ff0-91b3-640add79308e', timestamp=1752767003.726153), Event(content=Content(\n",
              "  parts=[\n",
              "    Part(\n",
              "      text=\"\"\"Hello there! I'm PhysicsPal, and I'm ready to help you understand some fascinating physics concepts.\n",
              "\n",
              "What's on your mind today? Is there anything in particular you're curious about, or would you like me to start with something foundational? I'm here to explain things in plain English, so don't hesitate to ask anything!\"\"\"\n",
              "    ),\n",
              "  ],\n",
              "  role='model'\n",
              "), grounding_metadata=None, partial=None, turn_complete=None, error_code=None, error_message=None, interrupted=None, custom_metadata=None, usage_metadata=GenerateContentResponseUsageMetadata(\n",
              "  candidates_token_count=74,\n",
              "  candidates_tokens_details=[\n",
              "    ModalityTokenCount(\n",
              "      modality=<MediaModality.TEXT: 'TEXT'>,\n",
              "      token_count=74\n",
              "    ),\n",
              "  ],\n",
              "  prompt_token_count=46,\n",
              "  prompt_tokens_details=[\n",
              "    ModalityTokenCount(\n",
              "      modality=<MediaModality.TEXT: 'TEXT'>,\n",
              "      token_count=46\n",
              "    ),\n",
              "  ],\n",
              "  thoughts_token_count=37,\n",
              "  total_token_count=157,\n",
              "  traffic_type=<TrafficType.ON_DEMAND: 'ON_DEMAND'>\n",
              "), invocation_id='e-bf422707-da94-47d5-aad6-5e7df0446ded', author='PhysicsPal', actions=EventActions(skip_summarization=None, state_delta={}, artifact_delta={}, transfer_to_agent=None, escalate=None, requested_auth_configs={}), long_running_tool_ids=None, branch=None, id='95dc2ff9-4db4-41f7-bc22-e488bf5eb14c', timestamp=1752767003.726909), Event(content=Content(\n",
              "  parts=[\n",
              "    Part(\n",
              "      text='What is inertia?'\n",
              "    ),\n",
              "  ],\n",
              "  role='user'\n",
              "), grounding_metadata=None, partial=None, turn_complete=None, error_code=None, error_message=None, interrupted=None, custom_metadata=None, usage_metadata=None, invocation_id='e-97114b67-f802-4d50-80d9-298013bcd04a', author='user', actions=EventActions(skip_summarization=None, state_delta={}, artifact_delta={}, transfer_to_agent=None, escalate=None, requested_auth_configs={}), long_running_tool_ids=None, branch=None, id='06b36f7e-e1a8-4c02-9024-c2885595904d', timestamp=1752767005.700458), Event(content=Content(\n",
              "  parts=[\n",
              "    Part(\n",
              "      text=\"\"\"Ah, inertia! That's a fantastic place to start because it's a really fundamental concept in physics, and you experience it every single day without even realizing it.\n",
              "\n",
              "In the simplest terms, **inertia is the natural tendency of any object to resist changes in its state of motion.**\n",
              "\n",
              "Let's break that down:\n",
              "\n",
              "1.  **\"Resist changes\"**: This is the key part.\n",
              "    *   If an object is **sitting still**, inertia wants it to *stay sitting still*. It's \"lazy\" and doesn't want to start moving.\n",
              "    *   If an object is **moving**, inertia wants it to *keep moving in the same direction at the same speed*. It's equally \"lazy\" and doesn't want to stop or change its path.\n",
              "\n",
              "Think of it like an object's \"stubbornness\" or \"laziness\" when it comes to changing what it's already doing.\n",
              "\n",
              "**Here are a few everyday examples to help it click:**\n",
              "\n",
              "*   **When you're in a car and it suddenly brakes:** You lurch forward, right? That's your body's inertia. Before the car braked, your body was moving forward at the same speed as the car. When the car stops, your body wants to *keep moving forward* due to its inertia, so you get pushed against your seatbelt.\n",
              "*   **When you're in a car and it suddenly speeds up:** You feel pushed back into your seat. That's also inertia. Your body was initially at rest (or moving slowly), and it wants to *stay at rest* (or at that slower speed). When the car accelerates, your body lags behind because of its inertia.\n",
              "*   **Pushing a heavy box vs. a light box:** It's much harder to get a heavy box moving from a standstill than a light one, and it's also harder to stop a heavy box once it's moving. Why? Because the heavier box has more *mass*, and **the more mass an object has, the more inertia it possesses.** It's more \"stubborn\" about changing its motion.\n",
              "*   **A hockey puck gliding across the ice:** Once hit, a puck will keep sliding for a very long time because there's very little friction (an outside force) to slow it down. It wants to keep moving due to its inertia.\n",
              "\n",
              "So, in essence, inertia is why things that are stopped tend to stay stopped, and why things that are moving tend to keep moving, unless some outside force acts upon them. It's one of the core principles laid out in Newton's First Law of Motion!\n",
              "\n",
              "Does that make sense? Let me know if you'd like another example or want to dig deeper!\"\"\"\n",
              "    ),\n",
              "  ],\n",
              "  role='model'\n",
              "), grounding_metadata=None, partial=None, turn_complete=None, error_code=None, error_message=None, interrupted=None, custom_metadata=None, usage_metadata=GenerateContentResponseUsageMetadata(\n",
              "  candidates_token_count=580,\n",
              "  candidates_tokens_details=[\n",
              "    ModalityTokenCount(\n",
              "      modality=<MediaModality.TEXT: 'TEXT'>,\n",
              "      token_count=580\n",
              "    ),\n",
              "  ],\n",
              "  prompt_token_count=124,\n",
              "  prompt_tokens_details=[\n",
              "    ModalityTokenCount(\n",
              "      modality=<MediaModality.TEXT: 'TEXT'>,\n",
              "      token_count=124\n",
              "    ),\n",
              "  ],\n",
              "  thoughts_token_count=210,\n",
              "  total_token_count=914,\n",
              "  traffic_type=<TrafficType.ON_DEMAND: 'ON_DEMAND'>\n",
              "), invocation_id='e-97114b67-f802-4d50-80d9-298013bcd04a', author='PhysicsPal', actions=EventActions(skip_summarization=None, state_delta={}, artifact_delta={}, transfer_to_agent=None, escalate=None, requested_auth_configs={}), long_running_tool_ids=None, branch=None, id='1401d7a2-a940-4103-af07-002fef85013f', timestamp=1752767005.701261), Event(content=Content(\n",
              "  parts=[\n",
              "    Part(\n",
              "      text='What is velocity?'\n",
              "    ),\n",
              "  ],\n",
              "  role='user'\n",
              "), grounding_metadata=None, partial=None, turn_complete=None, error_code=None, error_message=None, interrupted=None, custom_metadata=None, usage_metadata=None, invocation_id='e-7d661a10-8112-4041-be96-3730922a3748', author='user', actions=EventActions(skip_summarization=None, state_delta={}, artifact_delta={}, transfer_to_agent=None, escalate=None, requested_auth_configs={}), long_running_tool_ids=None, branch=None, id='8af0be37-eabd-422d-86e0-c6efa3c72fae', timestamp=1752767012.593093), Event(content=Content(\n",
              "  parts=[\n",
              "    Part(\n",
              "      text=\"\"\"Great question! Velocity is a super important concept, and it's closely related to something you probably already understand: speed.\n",
              "\n",
              "Think of it this way:\n",
              "\n",
              "**Speed tells you *how fast* something is moving.**\n",
              "*   \"I'm driving at 60 miles per hour.\"\n",
              "*   \"That runner is doing 10 meters per second.\"\n",
              "\n",
              "**Velocity tells you *how fast* something is moving AND *in what direction*.**\n",
              "\n",
              "So, **velocity is essentially \"speed with a direction.\"**\n",
              "\n",
              "Let's use an example to make this super clear:\n",
              "\n",
              "Imagine you're talking about a car:\n",
              "\n",
              "*   **Speed:** If I say, \"The car is traveling at 50 miles per hour,\" that's its speed. You know *how fast* it's going.\n",
              "*   **Velocity:** If I say, \"The car is traveling at 50 miles per hour *north*,\" that's its velocity. Now you know both *how fast* it's going and *where* it's headed.\n",
              "\n",
              "**Why is the direction so important?**\n",
              "\n",
              "In physics, direction matters a lot!\n",
              "\n",
              "*   If two cars are both going 50 mph, but one is going north and the other is going south, their *speeds* are the same, but their *velocities* are completely different because their directions are opposite.\n",
              "*   If you're designing a rocket, knowing its speed isn't enough; you absolutely need to know its velocity (speed and direction) to make sure it reaches its target!\n",
              "*   When a ball is thrown upwards, its speed might momentarily be zero at the very top of its arc, but its velocity is changing constantly – it's going up, then it's going down.\n",
              "\n",
              "So, in short:\n",
              "*   **Speed = Magnitude (how much/how fast)**\n",
              "*   **Velocity = Magnitude + Direction**\n",
              "\n",
              "It's usually measured in units like meters per second (m/s), kilometers per hour (km/h), or miles per hour (mph), always with a direction specified.\n",
              "\n",
              "Does that distinction between speed and velocity make sense?\"\"\"\n",
              "    ),\n",
              "  ],\n",
              "  role='model'\n",
              "), grounding_metadata=None, partial=None, turn_complete=None, error_code=None, error_message=None, interrupted=None, custom_metadata=None, usage_metadata=GenerateContentResponseUsageMetadata(\n",
              "  candidates_token_count=456,\n",
              "  candidates_tokens_details=[\n",
              "    ModalityTokenCount(\n",
              "      modality=<MediaModality.TEXT: 'TEXT'>,\n",
              "      token_count=456\n",
              "    ),\n",
              "  ],\n",
              "  prompt_token_count=708,\n",
              "  prompt_tokens_details=[\n",
              "    ModalityTokenCount(\n",
              "      modality=<MediaModality.TEXT: 'TEXT'>,\n",
              "      token_count=708\n",
              "    ),\n",
              "  ],\n",
              "  thoughts_token_count=173,\n",
              "  total_token_count=1337,\n",
              "  traffic_type=<TrafficType.ON_DEMAND: 'ON_DEMAND'>\n",
              "), invocation_id='e-7d661a10-8112-4041-be96-3730922a3748', author='PhysicsPal', actions=EventActions(skip_summarization=None, state_delta={}, artifact_delta={}, transfer_to_agent=None, escalate=None, requested_auth_configs={}), long_running_tool_ids=None, branch=None, id='6bf570bf-d9d1-4161-a749-f9c84ce18bc8', timestamp=1752767012.59433), Event(content=Content(\n",
              "  parts=[\n",
              "    Part(\n",
              "      text='Do you have the list of all questions that I asked you in this session?'\n",
              "    ),\n",
              "  ],\n",
              "  role='user'\n",
              "), grounding_metadata=None, partial=None, turn_complete=None, error_code=None, error_message=None, interrupted=None, custom_metadata=None, usage_metadata=None, invocation_id='e-21e3f9af-d35c-442e-b2cf-aafd70134630', author='user', actions=EventActions(skip_summarization=None, state_delta={}, artifact_delta={}, transfer_to_agent=None, escalate=None, requested_auth_configs={}), long_running_tool_ids=None, branch=None, id='df339a49-57b9-48a5-9bea-c6d23ed19ab6', timestamp=1752767019.601229), Event(content=Content(\n",
              "  parts=[\n",
              "    Part(\n",
              "      text=\"\"\"Yes, I do! Here's a list of the questions you've asked me so far in this session:\n",
              "\n",
              "1.  \"hi\"\n",
              "2.  \"What is inertia?\"\n",
              "3.  \"What is velocity?\"\n",
              "4.  \"Do you have the list of all questions that I asked you in this session?\"\"\"\"\n",
              "    ),\n",
              "  ],\n",
              "  role='model'\n",
              "), grounding_metadata=None, partial=None, turn_complete=None, error_code=None, error_message=None, interrupted=None, custom_metadata=None, usage_metadata=GenerateContentResponseUsageMetadata(\n",
              "  candidates_token_count=70,\n",
              "  candidates_tokens_details=[\n",
              "    ModalityTokenCount(\n",
              "      modality=<MediaModality.TEXT: 'TEXT'>,\n",
              "      token_count=70\n",
              "    ),\n",
              "  ],\n",
              "  prompt_token_count=1180,\n",
              "  prompt_tokens_details=[\n",
              "    ModalityTokenCount(\n",
              "      modality=<MediaModality.TEXT: 'TEXT'>,\n",
              "      token_count=1180\n",
              "    ),\n",
              "  ],\n",
              "  thoughts_token_count=124,\n",
              "  total_token_count=1374,\n",
              "  traffic_type=<TrafficType.ON_DEMAND: 'ON_DEMAND'>\n",
              "), invocation_id='e-21e3f9af-d35c-442e-b2cf-aafd70134630', author='PhysicsPal', actions=EventActions(skip_summarization=None, state_delta={}, artifact_delta={}, transfer_to_agent=None, escalate=None, requested_auth_configs={}), long_running_tool_ids=None, branch=None, id='30e2be6e-2197-4437-b3a4-9df6a199aeaa', timestamp=1752767019.601998)], last_update_time=1752767019.601998)"
            ]
          },
          "metadata": {},
          "execution_count": 55
        }
      ]
    },
    {
      "cell_type": "code",
      "source": [
        "session_tmp.events[1]"
      ],
      "metadata": {
        "colab": {
          "base_uri": "https://localhost:8080/"
        },
        "id": "enODrJPvLpnm",
        "outputId": "91d825a3-3e8f-471c-d2e9-cc27bd7d3818"
      },
      "execution_count": 56,
      "outputs": [
        {
          "output_type": "execute_result",
          "data": {
            "text/plain": [
              "Event(content=Content(\n",
              "  parts=[\n",
              "    Part(\n",
              "      text=\"\"\"Hello there! I'm PhysicsPal, and I'm ready to help you understand some fascinating physics concepts.\n",
              "\n",
              "What's on your mind today? Is there anything in particular you're curious about, or would you like me to start with something foundational? I'm here to explain things in plain English, so don't hesitate to ask anything!\"\"\"\n",
              "    ),\n",
              "  ],\n",
              "  role='model'\n",
              "), grounding_metadata=None, partial=None, turn_complete=None, error_code=None, error_message=None, interrupted=None, custom_metadata=None, usage_metadata=GenerateContentResponseUsageMetadata(\n",
              "  candidates_token_count=74,\n",
              "  candidates_tokens_details=[\n",
              "    ModalityTokenCount(\n",
              "      modality=<MediaModality.TEXT: 'TEXT'>,\n",
              "      token_count=74\n",
              "    ),\n",
              "  ],\n",
              "  prompt_token_count=46,\n",
              "  prompt_tokens_details=[\n",
              "    ModalityTokenCount(\n",
              "      modality=<MediaModality.TEXT: 'TEXT'>,\n",
              "      token_count=46\n",
              "    ),\n",
              "  ],\n",
              "  thoughts_token_count=37,\n",
              "  total_token_count=157,\n",
              "  traffic_type=<TrafficType.ON_DEMAND: 'ON_DEMAND'>\n",
              "), invocation_id='e-bf422707-da94-47d5-aad6-5e7df0446ded', author='PhysicsPal', actions=EventActions(skip_summarization=None, state_delta={}, artifact_delta={}, transfer_to_agent=None, escalate=None, requested_auth_configs={}), long_running_tool_ids=None, branch=None, id='95dc2ff9-4db4-41f7-bc22-e488bf5eb14c', timestamp=1752767003.726909)"
            ]
          },
          "metadata": {},
          "execution_count": 56
        }
      ]
    },
    {
      "cell_type": "markdown",
      "source": [
        "## Concept: Tools"
      ],
      "metadata": {
        "id": "z-jRTZHO1vTM"
      }
    },
    {
      "cell_type": "code",
      "source": [
        "def get_weather(city: str) -> dict:\n",
        "    \"\"\"Retrieves the current weather report for a specified city.\n",
        "\n",
        "    Args:\n",
        "        city (str): The name of the city (e.g., \"New York\", \"London\", \"Tokyo\").\n",
        "\n",
        "    Returns:\n",
        "        dict: A dictionary containing the weather information.\n",
        "              Includes a 'status' key ('success' or 'error').\n",
        "              If 'success', includes a 'report' key with weather details.\n",
        "              If 'error', includes an 'error_message' key.\n",
        "    \"\"\"\n",
        "    print(f\"--- Tool: get_weather called for city: {city} ---\") # Log tool execution\n",
        "    city_normalized = city.lower().replace(\" \", \"\") # Basic normalization\n",
        "\n",
        "    # Mock weather data\n",
        "    mock_weather_db = {\n",
        "        \"newyork\": {\"status\": \"success\", \"report\": \"The weather in New York is sunny with a temperature of 25°C.\"},\n",
        "        \"london\": {\"status\": \"success\", \"report\": \"It's cloudy in London with a temperature of 15°C.\"},\n",
        "        \"tokyo\": {\"status\": \"success\", \"report\": \"Tokyo is experiencing light rain and a temperature of 18°C.\"},\n",
        "    }\n",
        "\n",
        "    if city_normalized in mock_weather_db:\n",
        "        return mock_weather_db[city_normalized]\n",
        "    else:\n",
        "        return {\"status\": \"error\", \"error_message\": f\"Sorry, I don't have weather information for '{city}'.\"}\n"
      ],
      "metadata": {
        "id": "o8XEW2zSCoRr"
      },
      "execution_count": 160,
      "outputs": []
    },
    {
      "cell_type": "code",
      "source": [
        "# Our second agent and it can can use tools!\n",
        "\n",
        "weather_agent = Agent(\n",
        "    name=\"weather_agent_v1\",\n",
        "    model=AGENT_MODEL, # Can be a string for Gemini or a LiteLlm object\n",
        "    description=\"Provides weather information for specific cities.\",\n",
        "    instruction=\"You are a helpful weather assistant. \"\n",
        "                \"When the user asks for the weather in a specific city, \"\n",
        "                \"use the 'get_weather' tool to find the information. \"\n",
        "                \"If the tool returns an error, inform the user politely. \"\n",
        "                \"If the tool is successful, present the weather report clearly.\",\n",
        "    tools=[get_weather, adk.tools.preload_memory_tool.PreloadMemoryTool()], # Pass the function directly\n",
        ")"
      ],
      "metadata": {
        "id": "w9geqJIg3s_B"
      },
      "execution_count": 161,
      "outputs": []
    },
    {
      "cell_type": "code",
      "source": [
        "# Constant\n",
        "WEATHER_APP_NAME = \"weather_app\" # name of your agent app\n",
        "WEATHER_USER_ID = \"user42\"         # the user id that is interacting with the agent - used for a new conversation with the agent"
      ],
      "metadata": {
        "id": "Kht0L3teFG9C"
      },
      "execution_count": 162,
      "outputs": []
    },
    {
      "cell_type": "code",
      "source": [
        "# define the session and memory service\n",
        "weather_session_service = InMemorySessionService()\n",
        "weather_memory_service = InMemoryMemoryService()"
      ],
      "metadata": {
        "id": "h3QyMJfPEz4Y"
      },
      "execution_count": 163,
      "outputs": []
    },
    {
      "cell_type": "code",
      "source": [
        "# create the session and the runner\n",
        "weather_session = await weather_session_service.create_session(\n",
        "                                app_name=WEATHER_APP_NAME,\n",
        "                                user_id=WEATHER_USER_ID\n",
        "                            )\n",
        "weather_runner = Runner(agent=weather_agent,\n",
        "                        app_name=WEATHER_APP_NAME,\n",
        "                        session_service=weather_session_service,\n",
        "                        memory_service=weather_memory_service)\n",
        "\n"
      ],
      "metadata": {
        "id": "N9GmWMEyEpcY"
      },
      "execution_count": 164,
      "outputs": []
    },
    {
      "cell_type": "code",
      "source": [
        "user_input = types.Part(text=\"hi I am planning a trip to Europe\")\n",
        "\n",
        "events = weather_runner.run(user_id=weather_session.user_id, session_id=weather_session.id, new_message=types.Content(role='user', parts=[user_input]))\n",
        "pprint_events(events)"
      ],
      "metadata": {
        "colab": {
          "base_uri": "https://localhost:8080/"
        },
        "id": "GBo592JYFivz",
        "outputId": "fcbd86b9-b093-4169-b65e-8d546b2dbc7e"
      },
      "execution_count": 165,
      "outputs": [
        {
          "output_type": "stream",
          "name": "stdout",
          "text": [
            ">>> Final Response (1415.301 ms):\n",
            "That sounds exciting! Which city in Europe are you planning to visit? I can help you with the weather there.\n",
            "------------------------------\n",
            "Total elapsed time: 1424.618 ms\n"
          ]
        }
      ]
    },
    {
      "cell_type": "code",
      "source": [
        "# Get the completed session\n",
        "completed_session1 = await weather_runner.session_service.get_session(app_name=WEATHER_APP_NAME, user_id=WEATHER_USER_ID, session_id=weather_session.id)\n",
        "\n",
        "# Add this session's content to the Memory Service\n",
        "print(\"\\n--- Adding Session 1 to Memory ---\")\n",
        "memory_service = await weather_memory_service.add_session_to_memory(completed_session1)\n",
        "print(\"Session added to memory.\")"
      ],
      "metadata": {
        "colab": {
          "base_uri": "https://localhost:8080/"
        },
        "id": "CRtpDEFNNwGP",
        "outputId": "5e8c2359-558b-459f-d225-a92e78c05cec"
      },
      "execution_count": 166,
      "outputs": [
        {
          "output_type": "stream",
          "name": "stdout",
          "text": [
            "\n",
            "--- Adding Session 1 to Memory ---\n",
            "Session added to memory.\n"
          ]
        }
      ]
    },
    {
      "cell_type": "code",
      "source": [
        "# create a second session for the user\n",
        "weather_session_2 = await weather_session_service.create_session(\n",
        "                                app_name=WEATHER_APP_NAME,\n",
        "                                user_id=WEATHER_USER_ID\n",
        "                            )"
      ],
      "metadata": {
        "id": "Tb4IPUtTK5cM"
      },
      "execution_count": 167,
      "outputs": []
    },
    {
      "cell_type": "code",
      "source": [
        "input = 'Do you remember anything about our last conversation?' # @param {type:\"string\"}\n",
        "user_input = types.Part(text=input)\n",
        "\n",
        "events = weather_runner.run(user_id=weather_session_2.user_id,\n",
        "                            session_id=weather_session_2.id,\n",
        "                            new_message=types.Content(role='user', parts=[user_input]))\n",
        "pprint_events(events)"
      ],
      "metadata": {
        "id": "zGZMnBh5WRLp",
        "colab": {
          "base_uri": "https://localhost:8080/"
        },
        "outputId": "1e17fe59-c601-4a76-8e71-ffee291cdcf3"
      },
      "execution_count": 169,
      "outputs": [
        {
          "output_type": "stream",
          "name": "stdout",
          "text": [
            ">>> Final Response (1579.909 ms):\n",
            "Yes, I do! In our last conversation, you mentioned planning a trip to Europe, and I asked which city you were visiting so I could help you with the weather there.\n",
            "------------------------------\n",
            "Total elapsed time: 1584.588 ms\n"
          ]
        }
      ]
    },
    {
      "cell_type": "code",
      "source": [
        "# Get the completed session\n",
        "completed_session1 = await weather_runner.session_service.get_session(app_name=WEATHER_APP_NAME, user_id=WEATHER_USER_ID, session_id=weather_session.id)\n",
        "\n",
        "# Add this session's content to the Memory Service\n",
        "print(\"\\n--- Adding Session 1 to Memory ---\")\n",
        "memory_service = await weather_memory_service.add_session_to_memory(completed_session1)\n",
        "print(\"Session added to memory.\")"
      ],
      "metadata": {
        "colab": {
          "base_uri": "https://localhost:8080/"
        },
        "id": "lgYK2VorOEvR",
        "outputId": "629eb61e-cc01-47c0-b304-6e94240b637a"
      },
      "execution_count": 170,
      "outputs": [
        {
          "output_type": "stream",
          "name": "stdout",
          "text": [
            "\n",
            "--- Adding Session 1 to Memory ---\n",
            "Session added to memory.\n"
          ]
        }
      ]
    },
    {
      "cell_type": "code",
      "source": [
        "input = 'How is the weather in London' # @param {type:\"string\"}\n",
        "user_input = types.Part(text=input)\n",
        "\n",
        "events = weather_runner.run(user_id=weather_session.user_id, session_id=weather_session.id, new_message=types.Content(role='user', parts=[user_input]))\n",
        "pprint_events(events)"
      ],
      "metadata": {
        "colab": {
          "base_uri": "https://localhost:8080/"
        },
        "id": "sihQJ7tBJ6MD",
        "outputId": "737b3fdf-75f7-4de7-b7c8-636726c71658"
      },
      "execution_count": 171,
      "outputs": [
        {
          "output_type": "stream",
          "name": "stdout",
          "text": [
            "--- Tool: get_weather called for city: London ---+++ Function Calls:\n",
            "Function Name: get_weather, Args: {'city': 'London'}\n",
            "\n",
            "--- Function Responses:\n",
            "Function Name: get_weather\n",
            "Function Results: [\"success\", \"It's cloudy in London with a temperature of 15\\u00b0C.\"]\n",
            ">>> Final Response (2804.541 ms):\n",
            "It's cloudy in London with a temperature of 15°C.\n",
            "------------------------------\n",
            "Total elapsed time: 2808.854 ms\n"
          ]
        }
      ]
    },
    {
      "cell_type": "code",
      "source": [
        "# Get the completed session\n",
        "completed_session1 = await weather_runner.session_service.get_session(app_name=WEATHER_APP_NAME, user_id=WEATHER_USER_ID, session_id=weather_session.id)\n",
        "\n",
        "# Add this session's content to the Memory Service\n",
        "print(\"\\n--- Adding Session 1 to Memory ---\")\n",
        "memory_service = await weather_memory_service.add_session_to_memory(completed_session1)\n",
        "print(\"Session added to memory.\")"
      ],
      "metadata": {
        "colab": {
          "base_uri": "https://localhost:8080/"
        },
        "id": "ntUrs8gLRVK2",
        "outputId": "39766ccc-aa04-48f9-a293-efcd3972a8c3"
      },
      "execution_count": 172,
      "outputs": [
        {
          "output_type": "stream",
          "name": "stdout",
          "text": [
            "\n",
            "--- Adding Session 1 to Memory ---\n",
            "Session added to memory.\n"
          ]
        }
      ]
    }
  ]
}